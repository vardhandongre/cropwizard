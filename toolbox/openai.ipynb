{
 "cells": [
  {
   "cell_type": "code",
   "execution_count": 1,
   "id": "56dd2cd4-390d-425b-9052-2bd04f53e52b",
   "metadata": {},
   "outputs": [],
   "source": [
    "import os\n",
    "os.environ['OPENAI_API_KEY'] = 'API KEY HERE'"
   ]
  },
  {
   "cell_type": "code",
   "execution_count": 2,
   "id": "798c2967-d801-4ce3-8dac-4e2116162fcc",
   "metadata": {},
   "outputs": [],
   "source": [
    "from openai import OpenAI\n",
    "\n",
    "client = OpenAI(\n",
    "  api_key=os.environ['OPENAI_API_KEY'],\n",
    ")"
   ]
  },
  {
   "cell_type": "code",
   "execution_count": 3,
   "id": "8ec7072d-fe17-40d8-9da5-b1a94e9d50d9",
   "metadata": {},
   "outputs": [],
   "source": [
    "!pip install scipy --quiet\n",
    "!pip install tenacity --quiet\n",
    "!pip install tiktoken --quiet\n",
    "!pip install termcolor --quiet\n",
    "!pip install openai --quiet"
   ]
  },
  {
   "cell_type": "code",
   "execution_count": 4,
   "id": "3fcd6292-30c2-4973-91e5-4efbaf6c0a16",
   "metadata": {},
   "outputs": [],
   "source": [
    "import json\n",
    "from openai import OpenAI\n",
    "tr.\n",
    "from termcolor import colored  \n",
    "\n",
    "GPT_MODEL = \"gpt-3.5-turbo-0613\"\n",
    "GPT_MODEL_2 = \"gpt-4-1106-preview\"\n",
    "GPT_MODEL_3 = \"gpt-3.5-turbo-1106\"\n",
    "client = OpenAI()"
   ]
  },
  {
   "cell_type": "code",
   "execution_count": 5,
   "id": "feca2f0a-57f1-482f-8b5d-a41c194f90cf",
   "metadata": {},
   "outputs": [],
   "source": [
    "@retry(wait=wait_random_exponential(multiplier=1, max=40), stop=stop_after_attempt(3))\n",
    "def chat_completion_request(messages, tools=None, tool_choice=None, model=GPT_MODEL):\n",
    "    try:\n",
    "        response = client.chat.completions.create(\n",
    "            model=model,\n",
    "            messages=messages,\n",
    "            tools=tools,\n",
    "            tool_choice=tool_choice,\n",
    "        )\n",
    "        return response\n",
    "    except Exception as e:\n",
    "        print(\"Unable to generate ChatCompletion response\")\n",
    "        print(f\"Exception: {e}\")\n",
    "        return e\n"
   ]
  },
  {
   "cell_type": "code",
   "execution_count": null,
   "id": "5cc4634b-a25b-4b6d-91ad-cc2b6bb5a09c",
   "metadata": {},
   "outputs": [],
   "source": []
  },
  {
   "cell_type": "code",
   "execution_count": 8,
   "id": "b8017e82-076e-4520-8f72-c095aaa654e9",
   "metadata": {},
   "outputs": [],
   "source": [
    "tools = [\n",
    "    {\n",
    "        \"type\": \"function\",\n",
    "        \"function\": {\n",
    "            \"name\": \"get_current_weather\",\n",
    "            \"description\": \"Get the current weather\",\n",
    "            \"parameters\": {\n",
    "                \"type\": \"object\",\n",
    "                \"properties\": {\n",
    "                    \"location\": {\n",
    "                        \"type\": \"string\",\n",
    "                        \"description\": \"The city and state, e.g. San Francisco, CA\",\n",
    "                    },\n",
    "                    \"format\": {\n",
    "                        \"type\": \"string\",\n",
    "                        \"enum\": [\"celsius\", \"fahrenheit\"],\n",
    "                        \"description\": \"The temperature unit to use. Infer this from the users location.\",\n",
    "                    },\n",
    "                },\n",
    "                \"required\": [\"location\", \"format\"],\n",
    "            },\n",
    "        }\n",
    "    },\n",
    "    {\n",
    "        \"type\": \"function\",\n",
    "        \"function\": {\n",
    "            \"name\": \"get_n_day_weather_forecast\",\n",
    "            \"description\": \"Get an N-day weather forecast\",\n",
    "            \"parameters\": {\n",
    "                \"type\": \"object\",\n",
    "                \"properties\": {\n",
    "                    \"location\": {\n",
    "                        \"type\": \"string\",\n",
    "                        \"description\": \"The city and state, e.g. San Francisco, CA\",\n",
    "                    },\n",
    "                    \"format\": {\n",
    "                        \"type\": \"string\",\n",
    "                        \"enum\": [\"celsius\", \"fahrenheit\"],\n",
    "                        \"description\": \"The temperature unit to use. Infer this from the users location.\",\n",
    "                    },\n",
    "                    \"num_days\": {\n",
    "                        \"type\": \"integer\",\n",
    "                        \"description\": \"The number of days to forecast\",\n",
    "                    }\n",
    "                },\n",
    "                \"required\": [\"location\", \"format\", \"num_days\"]\n",
    "            },\n",
    "        }\n",
    "    },\n",
    "    {\n",
    "    \"type\": \"function\",\n",
    "    \"function\": {\n",
    "        \"name\": \"get_gdd_response\",\n",
    "        \"description\": \"Retrieve Growing Degree Days (GDD) based on specified parameters from a specified service. 'placebox' and 'areabox' are derived based on 'plap' value.\",\n",
    "        \"parameters\": {\n",
    "            \"type\": \"object\",\n",
    "            \"properties\": {\n",
    "                \"base\": {\n",
    "                    \"type\": \"number\",\n",
    "                    \"enum\": [\"40\", \"50\"],\n",
    "                    \"description\": \"The base temperature (in °F) used for the GDD calculation.\"\n",
    "                },\n",
    "                \"date\": {\n",
    "                    \"type\": \"string\",\n",
    "                    \"description\": \"Date or date range for which GDD should be calculated.\"\n",
    "                },\n",
    "                \"plap\": {\n",
    "                    \"type\": \"string\",\n",
    "                    \"description\": \"Location parameter for the calculation. e.g. Champaign, DeKalb\"\n",
    "                }\n",
    "            },\n",
    "            \"required\": [\"base\", \"date\", \"plap\"]\n",
    "        }\n",
    "    }\n",
    "},\n",
    "         {\n",
    "    \"type\": \"function\",\n",
    "    \"function\": {\n",
    "        \"name\": \"fetch_map_data\",\n",
    "        \"description\": \"Fetches a URL link to a map image based on the type of pest specified. The map illustrates accumulated pest degree days relevant to the pest's impact or presence in Illinois.\",\n",
    "        \"parameters\": {\n",
    "            \"type\": \"object\",\n",
    "            \"properties\": {\n",
    "                \"pest_type\": {\n",
    "                    \"type\": \"string\",\n",
    "                    \"description\": \"Type of pest for which the map is needed.\",\n",
    "                    \"enum\": [\"japanese_beetle\", \"corn_flea_beetle\", \"brown_marmorated_stinkbug\"]\n",
    "                }\n",
    "            },\n",
    "            \"required\": [\"pest_type\"]\n",
    "        }\n",
    "    }\n",
    "},\n",
    "           {\n",
    "    \"type\": \"function\",\n",
    "    \"function\": {\n",
    "        \"name\": \"get_groundwater_depth\",\n",
    "        \"description\": \"Fetches the groundwater depth for a specified city and date. The function uses city-to-well mappings to retrieve data from a remote server.\",\n",
    "        \"parameters\": {\n",
    "            \"type\": \"object\",\n",
    "            \"properties\": {\n",
    "                \"city\": {\n",
    "                    \"type\": \"string\",\n",
    "                    \"description\": \"The city for which groundwater depth needs to be fetched. Valid values are mapped internally.\"\n",
    "                },\n",
    "                \"month\": {\n",
    "                    \"type\": [\"string\", \"integer\"],\n",
    "                    \"description\": \"The month for which the groundwater depth is required. Can be a month number (1-12) or month name ('January', 'February', etc.).\"\n",
    "                },\n",
    "                \"year\": {\n",
    "                    \"type\": \"integer\",\n",
    "                    \"description\": \"The year for which the groundwater depth is required.\"\n",
    "                }\n",
    "            },\n",
    "            \"required\": [\"city\", \"month\", \"year\"]\n",
    "        }\n",
    "    }\n",
    "}\n",
    "]"
   ]
  },
  {
   "cell_type": "code",
   "execution_count": 14,
   "id": "278a8e31-fe03-4e6c-915e-22ae9c2388ef",
   "metadata": {},
   "outputs": [
    {
     "data": {
      "text/plain": [
       "ChatCompletionMessage(content=\"To provide you with today's weather, I need to know your location. Please tell me the city and state (or country, if outside of the USA) where you would like the weather report for.\", role='assistant', function_call=None, tool_calls=None)"
      ]
     },
     "execution_count": 14,
     "metadata": {},
     "output_type": "execute_result"
    }
   ],
   "source": [
    "messages = []\n",
    "messages.append({\"role\": \"system\", \"content\": \"Don't make assumptions about what values to plug into functions. Ask for clarification if a user request is ambiguous.\"})\n",
    "messages.append({\"role\": \"user\", \"content\": \"What's the weather like today?\"})\n",
    "chat_response = chat_completion_request(\n",
    "    messages, tools=tools, model = GPT_MODEL_2\n",
    ")\n",
    "assistant_message = chat_response.choices[0].message\n",
    "messages.append(assistant_message)\n",
    "assistant_message\n"
   ]
  },
  {
   "cell_type": "code",
   "execution_count": 15,
   "id": "24ccb071-82c5-42e0-b024-75b62606556d",
   "metadata": {},
   "outputs": [
    {
     "data": {
      "text/plain": [
       "ChatCompletionMessage(content=None, role='assistant', function_call=None, tool_calls=[ChatCompletionMessageToolCall(id='call_TA1UfXsX22chARlJvuMvbX4i', function=Function(arguments='{\"location\":\"Champaign, IL\",\"format\":\"fahrenheit\"}', name='get_current_weather'), type='function')])"
      ]
     },
     "execution_count": 15,
     "metadata": {},
     "output_type": "execute_result"
    }
   ],
   "source": [
    "messages.append({\"role\": \"user\", \"content\": \"I'm in Champaign, Illinois.\"})\n",
    "chat_response = chat_completion_request(\n",
    "    messages, tools=tools, model = GPT_MODEL_2\n",
    ")\n",
    "assistant_message = chat_response.choices[0].message\n",
    "messages.append(assistant_message)\n",
    "assistant_message\n"
   ]
  },
  {
   "cell_type": "code",
   "execution_count": 19,
   "id": "0136b3ed-b029-4c7f-aed1-41f804cad35e",
   "metadata": {},
   "outputs": [
    {
     "data": {
      "text/plain": [
       "ChatCompletionMessage(content=None, role='assistant', function_call=None, tool_calls=[ChatCompletionMessageToolCall(id='call_inz9DOuWnbijdKLdieot8pLW', function=Function(arguments='{\"pest_type\":\"japanese_beetle\"}', name='fetch_map_data'), type='function')])"
      ]
     },
     "execution_count": 19,
     "metadata": {},
     "output_type": "execute_result"
    }
   ],
   "source": [
    "messages_2 = []\n",
    "messages_2.append({\"role\": \"system\", \"content\": \"Don't make assumptions about what values to plug into functions. Ask for clarification if a user request is ambiguous.\"})\n",
    "messages_2.append({\"role\": \"user\", \"content\": \"Show me the map for accumulated pest degree days in Illinois?\"})\n",
    "chat_response = chat_completion_request(\n",
    "    messages_2, tools=tools, model = GPT_MODEL_2\n",
    ")\n",
    "assistant_message = chat_response.choices[0].message\n",
    "messages_2.append(assistant_message)\n",
    "assistant_message"
   ]
  },
  {
   "cell_type": "code",
   "execution_count": 20,
   "id": "7ba16829-c22b-4c92-b51e-2fadff09e7a7",
   "metadata": {},
   "outputs": [
    {
     "data": {
      "text/plain": [
       "ChatCompletionMessage(content='To calculate the growing degree days for corn, I need to know the base temperature for corn GDD calculations, the location where the calculations should be applied, and the date or date range for which you want to calculate the GDD. The base temperature for corn is typically 50°F. Could you please provide the location and the date range for the calculation?', role='assistant', function_call=None, tool_calls=None)"
      ]
     },
     "execution_count": 20,
     "metadata": {},
     "output_type": "execute_result"
    }
   ],
   "source": [
    "messages_3 = []\n",
    "messages_3.append({\"role\": \"system\", \"content\": \"Don't make any assumptions about what values to plug into functions. Ask for clarification if a user request is ambiguous.\"})\n",
    "messages_3.append({\"role\": \"user\", \"content\": \"Calculate the growing degree days for Corn.\"})\n",
    "chat_response = chat_completion_request(\n",
    "    messages_3, tools=tools, model = GPT_MODEL_2\n",
    ")\n",
    "assistant_message = chat_response.choices[0].message\n",
    "messages_3.append(assistant_message)\n",
    "assistant_message"
   ]
  },
  {
   "cell_type": "code",
   "execution_count": 21,
   "id": "452fc125-6001-4a1e-bc79-a254b08f6582",
   "metadata": {},
   "outputs": [
    {
     "data": {
      "text/plain": [
       "ChatCompletionMessage(content=None, role='assistant', function_call=None, tool_calls=[ChatCompletionMessageToolCall(id='call_zwQvlxXQzspK9uQUP9DSMLic', function=Function(arguments='{\\n  \"base\": \"50\",\\n  \"date\": \"04/01\",\\n  \"plap\": \"Champaign\"\\n}', name='get_gdd_response'), type='function')])"
      ]
     },
     "execution_count": 21,
     "metadata": {},
     "output_type": "execute_result"
    }
   ],
   "source": [
    "messages_3.append({\"role\": \"user\", \"content\": \"I'm in Champaign, Illinois and I want to know for 1st April\"})\n",
    "chat_response = chat_completion_request(\n",
    "    messages_3, tools=tools, model = GPT_MODEL_2\n",
    ")\n",
    "assistant_message = chat_response.choices[0].message\n",
    "messages_3.append(assistant_message)\n",
    "assistant_message"
   ]
  },
  {
   "cell_type": "code",
   "execution_count": 23,
   "id": "0ade8308-62cd-40fb-88ff-0b93df14d40e",
   "metadata": {},
   "outputs": [
    {
     "data": {
      "text/plain": [
       "ChatCompletionMessage(content='Sure, I can help with that. Please provide me with the city, month, and year for which you would like to know the groundwater depth.', role='assistant', function_call=None, tool_calls=None)"
      ]
     },
     "execution_count": 23,
     "metadata": {},
     "output_type": "execute_result"
    }
   ],
   "source": [
    "messages_4 = []\n",
    "messages_4.append({\"role\": \"system\", \"content\": \"Don't make any assumptions about what values to plug into functions. Ask for clarification if a user request is ambiguous.\"})\n",
    "messages_4.append({\"role\": \"user\", \"content\": \"Can you tell me the groundwater depth?\"})\n",
    "chat_response = chat_completion_request(\n",
    "    messages_4, tools=tools, model = GPT_MODEL_2\n",
    ")\n",
    "assistant_message = chat_response.choices[0].message\n",
    "messages_4.append(assistant_message)\n",
    "assistant_message"
   ]
  },
  {
   "cell_type": "code",
   "execution_count": 25,
   "id": "e17a07a8-8407-4c72-91d0-c8a087aae2d2",
   "metadata": {},
   "outputs": [
    {
     "data": {
      "text/plain": [
       "ChatCompletionMessage(content=None, role='assistant', function_call=None, tool_calls=[ChatCompletionMessageToolCall(id='call_4U89HuJCcpDg4LmzP3vrhJJA', function=Function(arguments='{\\n  \"city\": \"Champaign\",\\n  \"month\": \"April\",\\n  \"year\": 2023\\n}', name='get_groundwater_depth'), type='function')])"
      ]
     },
     "execution_count": 25,
     "metadata": {},
     "output_type": "execute_result"
    }
   ],
   "source": [
    "messages_4.append({\"role\": \"user\", \"content\": \"I'm in Champaign, Illinois and would like to know for April 2023\"})\n",
    "chat_response = chat_completion_request(\n",
    "    messages_4, tools=tools, model = GPT_MODEL_2\n",
    ")\n",
    "assistant_message = chat_response.choices[0].message\n",
    "messages_4.append(assistant_message)\n",
    "assistant_message"
   ]
  },
  {
   "cell_type": "code",
   "execution_count": 26,
   "id": "0e419622-4a44-4d66-89df-805d6961a4f7",
   "metadata": {},
   "outputs": [
    {
     "data": {
      "text/plain": [
       "ChatCompletionMessage(content=None, role='assistant', function_call=None, tool_calls=[ChatCompletionMessageToolCall(id='call_qyXneeoLrvOFZt6pnIeLGOjC', function=Function(arguments='{\"location\": \"Chicago, IL\", \"format\": \"fahrenheit\"}', name='get_current_weather'), type='function'), ChatCompletionMessageToolCall(id='call_0KrlV6SA62Yv3IwlBEk7uPGt', function=Function(arguments='{\"location\": \"Peoria, IL\", \"format\": \"fahrenheit\"}', name='get_current_weather'), type='function')])"
      ]
     },
     "execution_count": 26,
     "metadata": {},
     "output_type": "execute_result"
    }
   ],
   "source": [
    "# Parallel function calling\n",
    "messages_5 = []\n",
    "messages_5.append({\"role\": \"system\", \"content\": \"Don't make assumptions about what values to plug into functions. Ask for clarification if a user request is ambiguous.\"})\n",
    "messages_5.append({\"role\": \"user\", \"content\": \"What's the weather like today in Chicago and Peoria\"})\n",
    "chat_response = chat_completion_request(\n",
    "    messages_5, tools=tools, model = GPT_MODEL_2\n",
    ")\n",
    "assistant_message = chat_response.choices[0].message\n",
    "messages_5.append(assistant_message)\n",
    "assistant_message"
   ]
  },
  {
   "cell_type": "code",
   "execution_count": 28,
   "id": "baa42dbd-aca3-4c1b-b9ce-e2c046663024",
   "metadata": {},
   "outputs": [
    {
     "data": {
      "text/plain": [
       "ChatCompletionMessage(content=None, role='assistant', function_call=None, tool_calls=[ChatCompletionMessageToolCall(id='call_ZQ2VEwe0tfv95PSQF4wyaOPP', function=Function(arguments='{\"city\": \"Peoria\", \"month\": 4, \"year\": 2023}', name='get_groundwater_depth'), type='function'), ChatCompletionMessageToolCall(id='call_J51Z09MnM257T8KTku03X551', function=Function(arguments='{\"city\": \"Champaign\", \"month\": 4, \"year\": 2023}', name='get_groundwater_depth'), type='function')])"
      ]
     },
     "execution_count": 28,
     "metadata": {},
     "output_type": "execute_result"
    }
   ],
   "source": [
    "messages_6 = []\n",
    "messages_6.append({\"role\": \"system\", \"content\": \"Don't make assumptions about what values to plug into functions. Ask for clarification if a user request is ambiguous.\"})\n",
    "messages_6.append({\"role\": \"user\", \"content\": \"Can you tell me the groundwater depth at Peoria and Champaign?\"})\n",
    "chat_response = chat_completion_request(\n",
    "    messages_6, tools=tools, model = GPT_MODEL_2\n",
    ")\n",
    "assistant_message = chat_response.choices[0].message\n",
    "messages_6.append(assistant_message)\n",
    "assistant_message"
   ]
  },
  {
   "cell_type": "code",
   "execution_count": 29,
   "id": "8c3ead2a-abc5-40a0-b284-22fbaedf19aa",
   "metadata": {},
   "outputs": [
    {
     "data": {
      "text/plain": [
       "ChatCompletionMessage(content=None, role='assistant', function_call=None, tool_calls=[ChatCompletionMessageToolCall(id='call_YoBtdsWgSuQN7abxZRD4nxH1', function=Function(arguments='{\"pest_type\": \"japanese_beetle\"}', name='fetch_map_data'), type='function'), ChatCompletionMessageToolCall(id='call_NImXxokhdrdyNVAbKX1AuVB8', function=Function(arguments='{\"pest_type\": \"brown_marmorated_stinkbug\"}', name='fetch_map_data'), type='function')])"
      ]
     },
     "execution_count": 29,
     "metadata": {},
     "output_type": "execute_result"
    }
   ],
   "source": [
    "messages_7 = []\n",
    "messages_7.append({\"role\": \"system\", \"content\": \"Don't make assumptions about what values to plug into functions. Ask for clarification if a user request is ambiguous.\"})\n",
    "messages_7.append({\"role\": \"user\", \"content\": \"Show me the map for japanese beetle and stinkbug\"})\n",
    "chat_response = chat_completion_request(\n",
    "    messages_7, tools=tools, model = GPT_MODEL_2\n",
    ")\n",
    "assistant_message = chat_response.choices[0].message\n",
    "messages_7.append(assistant_message)\n",
    "assistant_message"
   ]
  },
  {
   "cell_type": "code",
   "execution_count": 36,
   "id": "6d758f88-6126-40ef-813a-f14d7d2d8659",
   "metadata": {},
   "outputs": [
    {
     "name": "stdout",
     "output_type": "stream",
     "text": [
      "{'role': 'system', 'content': \"Don't make assumptions about what values to plug into functions. Ask for clarification if a user request is ambiguous.\"}\n",
      "{'role': 'user', 'content': 'Show me the map for japanese beetle and stinkbug'}\n",
      "ChatCompletionMessage(content=None, role='assistant', function_call=None, tool_calls=[ChatCompletionMessageToolCall(id='call_YoBtdsWgSuQN7abxZRD4nxH1', function=Function(arguments='{\"pest_type\": \"japanese_beetle\"}', name='fetch_map_data'), type='function'), ChatCompletionMessageToolCall(id='call_NImXxokhdrdyNVAbKX1AuVB8', function=Function(arguments='{\"pest_type\": \"brown_marmorated_stinkbug\"}', name='fetch_map_data'), type='function')])\n"
     ]
    }
   ],
   "source": [
    "for message in messages_7:\n",
    "    print(message)"
   ]
  },
  {
   "cell_type": "code",
   "execution_count": 45,
   "id": "4a0db04a-5f6f-442f-8d08-3545bdd747a8",
   "metadata": {},
   "outputs": [],
   "source": [
    "from termcolor import colored  # Make sure to import termcolor for colored function\n",
    "\n",
    "def pretty_print_conversation(messages):\n",
    "    role_to_color = {\n",
    "        \"system\": \"red\",\n",
    "        \"user\": \"green\",\n",
    "        \"assistant\": \"blue\",\n",
    "        \"function\": \"magenta\",\n",
    "    }\n",
    "    \n",
    "    for message in messages:\n",
    "        if isinstance(message, dict):  # Normal dictionary messages\n",
    "            role = message.get('role')\n",
    "            content = message.get('content')\n",
    "            print_message(role, content, role_to_color.get(role, 'white'))\n",
    "        elif hasattr(message, 'role'):  # Special handling for messages with objects\n",
    "            content = getattr(message, 'content', '')\n",
    "            # Print content if available, regardless of tool_calls\n",
    "            if content:\n",
    "                print_message(message.role, content, role_to_color.get(message.role, 'white'))\n",
    "            # Handle tool_calls if present\n",
    "            tool_calls = getattr(message, 'tool_calls', []) or []\n",
    "            for tool_call in tool_calls:\n",
    "                if hasattr(tool_call, 'function'):\n",
    "                    func_name = getattr(tool_call.function, 'name', 'Unknown Function')\n",
    "                    func_args = getattr(tool_call.function, 'arguments', '')\n",
    "                    print_message('function', f\"{func_name}: {func_args}\", role_to_color.get('function', 'white'))\n",
    "\n",
    "def print_message(role, content, color):\n",
    "    if role and content:\n",
    "        print(colored(f\"{role}: {content}\\n\", color))"
   ]
  },
  {
   "cell_type": "code",
   "execution_count": 46,
   "id": "1c984600-f206-451c-8de8-c9dc8194439d",
   "metadata": {},
   "outputs": [
    {
     "name": "stdout",
     "output_type": "stream",
     "text": [
      "\u001b[31msystem: Don't make assumptions about what values to plug into functions. Ask for clarification if a user request is ambiguous.\n",
      "\u001b[0m\n",
      "\u001b[32muser: What's the weather like today?\n",
      "\u001b[0m\n",
      "\u001b[34massistant: To provide you with today's weather, I need to know your location. Please tell me the city and state (or country, if outside of the USA) where you would like the weather report for.\n",
      "\u001b[0m\n",
      "\u001b[32muser: I'm in Champaign, Illinois.\n",
      "\u001b[0m\n",
      "\u001b[35mfunction: get_current_weather: {\"location\":\"Champaign, IL\",\"format\":\"fahrenheit\"}\n",
      "\u001b[0m\n",
      "\u001b[32muser: Show me the map for accumulated pest degree days in Illinois?\n",
      "\u001b[0m\n",
      "\u001b[32muser: I'm in Champaign, Illinois and would like to know for April 2023\n",
      "\u001b[0m\n",
      "\u001b[31msystem: Don't make assumptions about what values to plug into functions. Ask for clarification if a user request is ambiguous.\n",
      "\u001b[0m\n",
      "\u001b[32muser: Show me the map for accumulated pest degree days in Illinois?\n",
      "\u001b[0m\n",
      "\u001b[35mfunction: fetch_map_data: {\"pest_type\":\"japanese_beetle\"}\n",
      "\u001b[0m\n",
      "\u001b[31msystem: Don't make any assumptions about what values to plug into functions. Ask for clarification if a user request is ambiguous.\n",
      "\u001b[0m\n",
      "\u001b[32muser: Calculate the growing degree days for Corn.\n",
      "\u001b[0m\n",
      "\u001b[34massistant: To calculate the growing degree days for corn, I need to know the base temperature for corn GDD calculations, the location where the calculations should be applied, and the date or date range for which you want to calculate the GDD. The base temperature for corn is typically 50°F. Could you please provide the location and the date range for the calculation?\n",
      "\u001b[0m\n",
      "\u001b[32muser: I'm in Champaign, Illinois and I want to know for 1st April\n",
      "\u001b[0m\n",
      "\u001b[35mfunction: get_gdd_response: {\n",
      "  \"base\": \"50\",\n",
      "  \"date\": \"04/01\",\n",
      "  \"plap\": \"Champaign\"\n",
      "}\n",
      "\u001b[0m\n",
      "\u001b[31msystem: Don't make any assumptions about what values to plug into functions. Ask for clarification if a user request is ambiguous.\n",
      "\u001b[0m\n",
      "\u001b[32muser: Can you tell me the groundwater depth?\n",
      "\u001b[0m\n",
      "\u001b[34massistant: Sure, I can help with that. Please provide me with the city, month, and year for which you would like to know the groundwater depth.\n",
      "\u001b[0m\n",
      "\u001b[32muser: I'm in Champaign, Illinois and would like to know for April 2023\n",
      "\u001b[0m\n",
      "\u001b[35mfunction: get_groundwater_depth: {\n",
      "  \"city\": \"Champaign\",\n",
      "  \"month\": \"April\",\n",
      "  \"year\": 2023\n",
      "}\n",
      "\u001b[0m\n",
      "\u001b[31msystem: Don't make assumptions about what values to plug into functions. Ask for clarification if a user request is ambiguous.\n",
      "\u001b[0m\n",
      "\u001b[32muser: What's the weather like today in Chicago and Peoria\n",
      "\u001b[0m\n",
      "\u001b[35mfunction: get_current_weather: {\"location\": \"Chicago, IL\", \"format\": \"fahrenheit\"}\n",
      "\u001b[0m\n",
      "\u001b[35mfunction: get_current_weather: {\"location\": \"Peoria, IL\", \"format\": \"fahrenheit\"}\n",
      "\u001b[0m\n",
      "\u001b[31msystem: Don't make assumptions about what values to plug into functions. Ask for clarification if a user request is ambiguous.\n",
      "\u001b[0m\n",
      "\u001b[32muser: Can you tell me the groundwater depth at Peoria and Champaign?\n",
      "\u001b[0m\n",
      "\u001b[35mfunction: get_groundwater_depth: {\"city\": \"Peoria\", \"month\": 4, \"year\": 2023}\n",
      "\u001b[0m\n",
      "\u001b[35mfunction: get_groundwater_depth: {\"city\": \"Champaign\", \"month\": 4, \"year\": 2023}\n",
      "\u001b[0m\n",
      "\u001b[31msystem: Don't make assumptions about what values to plug into functions. Ask for clarification if a user request is ambiguous.\n",
      "\u001b[0m\n",
      "\u001b[32muser: Show me the map for japanese beetle and stinkbug\n",
      "\u001b[0m\n",
      "\u001b[35mfunction: fetch_map_data: {\"pest_type\": \"japanese_beetle\"}\n",
      "\u001b[0m\n",
      "\u001b[35mfunction: fetch_map_data: {\"pest_type\": \"brown_marmorated_stinkbug\"}\n",
      "\u001b[0m\n"
     ]
    }
   ],
   "source": [
    "msg_list = [messages, messages_2, messages_3, messages_4, messages_5, messages_6, messages_7]\n",
    "for m in msg_list:\n",
    "    pretty_print_conversation(m)"
   ]
  },
  {
   "cell_type": "code",
   "execution_count": null,
   "id": "4cde314d-5660-4837-a322-e1124a9575a7",
   "metadata": {},
   "outputs": [],
   "source": []
  }
 ],
 "metadata": {
  "kernelspec": {
   "display_name": "Python 3 (ipykernel)",
   "language": "python",
   "name": "python3"
  },
  "language_info": {
   "codemirror_mode": {
    "name": "ipython",
    "version": 3
   },
   "file_extension": ".py",
   "mimetype": "text/x-python",
   "name": "python",
   "nbconvert_exporter": "python",
   "pygments_lexer": "ipython3",
   "version": "3.11.8"
  }
 },
 "nbformat": 4,
 "nbformat_minor": 5
}
